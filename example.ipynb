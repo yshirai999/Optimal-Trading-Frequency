{
 "cells": [
  {
   "cell_type": "markdown",
   "metadata": {},
   "source": [
    "# Basic experiment"
   ]
  },
  {
   "cell_type": "code",
   "execution_count": 1,
   "metadata": {},
   "outputs": [
    {
     "name": "stderr",
     "output_type": "stream",
     "text": [
      "\n"
     ]
    }
   ],
   "source": [
    "from LocalVolEnv import LocalVol\n",
    "import gymnasium as gym # type: ignore\n",
    "from stable_baselines3 import PPO # type: ignore\n",
    "from stable_baselines3.common.evaluation import evaluate_policy # type: ignore\n",
    "from stable_baselines3.common.vec_env import DummyVecEnv # type: ignore\n",
    "from stable_baselines3.common.env_checker import check_env # type: ignore\n",
    "from stable_baselines3.common.monitor import Monitor # type: ignore\n",
    "import numpy as np # type: ignore\n",
    "import random\n",
    "import os"
   ]
  },
  {
   "cell_type": "code",
   "execution_count": 7,
   "metadata": {},
   "outputs": [
    {
     "name": "stdout",
     "output_type": "stream",
     "text": [
      "== CURRENT SYSTEM INFO ==\n",
      "- OS: Windows-11-10.0.22631-SP0 10.0.22631\n",
      "- Python: 3.12.9\n",
      "- Stable-Baselines3: 2.6.0\n",
      "- PyTorch: 2.6.0+cu126\n",
      "- GPU Enabled: True\n",
      "- Numpy: 2.1.3\n",
      "- Cloudpickle: 3.1.1\n",
      "- Gymnasium: 1.1.1\n",
      "- OpenAI Gym: 0.22.0\n",
      "\n",
      "== SAVED MODEL SYSTEM INFO ==\n",
      "- OS: Windows-11-10.0.22631-SP0 10.0.22631\n",
      "- Python: 3.12.9\n",
      "- Stable-Baselines3: 2.6.0\n",
      "- PyTorch: 2.6.0+cu126\n",
      "- GPU Enabled: True\n",
      "- Numpy: 2.1.3\n",
      "- Cloudpickle: 3.1.1\n",
      "- Gymnasium: 1.1.1\n",
      "- OpenAI Gym: 0.22.0\n",
      "\n",
      "1.9887029727417184e-05 9.634641353624996e-06\n"
     ]
    }
   ],
   "source": [
    "N = 10\n",
    "Dynamics  = 'BS'\n",
    "star_time = 0\n",
    "T = 1\n",
    "dT = 1/252\n",
    "r = 0\n",
    "mu = [0.05,-0.02]\n",
    "sigma = [0.1,0.1]\n",
    "P = [[0.9,0.0,0.0,0.1],[0.9,0.0,0.0,0.1],[0.5,0.0,0.0,0.5],[0.5,0.0,0.0,0.5]]\n",
    "cuda = True #Use cuda device and larger network architecture (3 layers, 256 neurons per layer) and larger batch size\n",
    "\n",
    "LVol = LocalVol(Dynamics = Dynamics, T = T, dT = dT, mu = mu, sigma = sigma, P = P)\n",
    "LVol.seed(seed=random.seed(10))\n",
    "\n",
    "env = gym.wrappers.TimeLimit(LVol, max_episode_steps=T)\n",
    "env = Monitor(env, allow_early_resets=True)\n",
    "\n",
    "steps = 1000000\n",
    "\n",
    "base_path = os.path.dirname(os.getcwd()) \n",
    "path_folder = os.path.join(base_path,'Optimal-Trading-Frequency','BS_PPO') # PATH to the BS_PPO_Models folder\n",
    "path = f\"{path_folder}/BS_PPO_{str(steps)}_n_regimes_{str(len(mu))}\"\n",
    "\n",
    "for k in range(len(mu)):\n",
    "    path += f\"_mu[{str(k)}]={str(int(mu[k]*100))}+P[{str(k)}]={str(int(P[0][k]*100))}\"\n",
    "\n",
    "if cuda:\n",
    "    path += 'cuda'\n",
    "\n",
    "model = PPO.load(path, env = DummyVecEnv([lambda: env]), print_system_info=True)\n",
    "\n",
    "Nepisodes = 100\n",
    "rew = []\n",
    "act = []\n",
    "tradingtimes = []\n",
    "\n",
    "for i in range(Nepisodes):\n",
    "    obs = env.reset()\n",
    "    obs = obs[0]\n",
    "    cont = True\n",
    "    i = 0\n",
    "    act.append([])\n",
    "    tradingtimes.append([])\n",
    "    reward_episode = 0\n",
    "    while cont:\n",
    "        action = model.predict([obs], deterministic = True)\n",
    "        obs, reward, terminated, truncated, info = LVol.step(action[0][0])\n",
    "        act[-1].append(action)\n",
    "        reward_episode += reward\n",
    "        i += 1\n",
    "        if any([terminated, truncated]):\n",
    "            cont = False\n",
    "            tradingtimes[-1].append(env.unwrapped.tradingtimes)\n",
    "            rew.append(reward_episode)\n",
    "\n",
    "print(np.mean(rew),np.std(rew))"
   ]
  },
  {
   "cell_type": "code",
   "execution_count": 17,
   "metadata": {},
   "outputs": [
    {
     "name": "stdout",
     "output_type": "stream",
     "text": [
      "0 (array([5]), None)\n",
      "1 (array([0]), None)\n",
      "2 (array([11]), None)\n",
      "3 (array([0]), None)\n"
     ]
    }
   ],
   "source": [
    "obs = env.observation_space.sample()\n",
    "print(0,model.predict([0], deterministic = True))\n",
    "print(1,model.predict([1], deterministic = True))\n",
    "print(2,model.predict([2], deterministic = True))\n",
    "print(3,model.predict([3], deterministic = True))"
   ]
  },
  {
   "cell_type": "code",
   "execution_count": 6,
   "metadata": {},
   "outputs": [
    {
     "name": "stdout",
     "output_type": "stream",
     "text": [
      "== CURRENT SYSTEM INFO ==\n",
      "- OS: Windows-11-10.0.26100-SP0 10.0.26100\n",
      "- Python: 3.12.9\n",
      "- Stable-Baselines3: 2.3.2\n",
      "- PyTorch: 2.6.0+cpu\n",
      "- GPU Enabled: False\n",
      "- Numpy: 2.0.2\n",
      "- Cloudpickle: 3.1.1\n",
      "- Gymnasium: 0.29.1\n",
      "- OpenAI Gym: 0.26.2\n",
      "\n",
      "== SAVED MODEL SYSTEM INFO ==\n",
      "- OS: Windows-11-10.0.26100-SP0 10.0.26100\n",
      "- Python: 3.12.9\n",
      "- Stable-Baselines3: 2.3.2\n",
      "- PyTorch: 2.6.0+cpu\n",
      "- GPU Enabled: False\n",
      "- Numpy: 2.0.2\n",
      "- Cloudpickle: 3.1.1\n",
      "- Gymnasium: 0.29.1\n",
      "- OpenAI Gym: 0.26.2\n",
      "\n"
     ]
    }
   ],
   "source": [
    "steps = 100000\n",
    "\n",
    "path_folder = f\"C:/Users/yoshi/OneDrive/Desktop/Research/Optimal Trading Frequency/Optimal-Trading-Frequency/BS_PPO\" # PATH to the BS_PPO_Models folder\n",
    "path = f\"{path_folder}/BS_PPO_{str(steps)}_n_regimes_{str(len(mu))}\"\n",
    "for k in range(len(mu)):\n",
    "    path += f\"mu[{str(k)}]_mu{str(int(mu[k]*100))}\"\n",
    "\n",
    "model = PPO.load(path, env = DummyVecEnv([lambda: env]), print_system_info=True)"
   ]
  },
  {
   "cell_type": "code",
   "execution_count": 31,
   "metadata": {},
   "outputs": [
    {
     "name": "stdout",
     "output_type": "stream",
     "text": [
      "0.0005033821799006766 6.204861222379161e-05\n"
     ]
    }
   ],
   "source": [
    "Nepisodes = 100\n",
    "rew = []\n",
    "act = []\n",
    "tradingtimes = []\n",
    "\n",
    "for i in range(Nepisodes):\n",
    "    obs = env.reset()\n",
    "    obs = obs[0]\n",
    "    \n",
    "    #obs = [[obs[0][i] for i in range(len(obs[0]))]]\n",
    "    cont = True\n",
    "    i = 0\n",
    "    act.append([])\n",
    "    tradingtimes.append([])\n",
    "    reward_episode = 0\n",
    "    while cont:\n",
    "        action = model.predict([obs], deterministic = True)\n",
    "        obs, reward, terminated, truncated, info = LVol.step(action[0][0])\n",
    "        act[-1].append(action)\n",
    "        reward_episode += reward\n",
    "        i += 1\n",
    "        if any([terminated, truncated]):\n",
    "            cont = False\n",
    "            tradingtimes[-1].append(env.unwrapped.tradingtimes)\n",
    "            rew.append(reward_episode)\n",
    "\n",
    "print(np.mean(rew),np.std(rew))\n"
   ]
  },
  {
   "cell_type": "code",
   "execution_count": 32,
   "metadata": {},
   "outputs": [
    {
     "name": "stdout",
     "output_type": "stream",
     "text": [
      "[[(array([250]), None), (array([250]), None)], [(array([250]), None), (array([250]), None)], [(array([250]), None), (array([250]), None)], [(array([250]), None), (array([250]), None)], [(array([250]), None), (array([250]), None)], [(array([250]), None), (array([250]), None)], [(array([250]), None), (array([250]), None)], [(array([250]), None), (array([250]), None)], [(array([250]), None), (array([250]), None)], [(array([250]), None), (array([250]), None)], [(array([250]), None), (array([250]), None)], [(array([250]), None), (array([250]), None)], [(array([250]), None), (array([250]), None)], [(array([250]), None), (array([250]), None)], [(array([250]), None), (array([250]), None)], [(array([250]), None), (array([250]), None)], [(array([250]), None), (array([250]), None)], [(array([250]), None), (array([250]), None)], [(array([250]), None), (array([250]), None)], [(array([250]), None), (array([250]), None)], [(array([250]), None), (array([250]), None)], [(array([250]), None), (array([250]), None)], [(array([250]), None), (array([250]), None)], [(array([250]), None), (array([250]), None)], [(array([250]), None), (array([250]), None)], [(array([250]), None), (array([250]), None)], [(array([250]), None), (array([250]), None)], [(array([250]), None), (array([250]), None)], [(array([250]), None), (array([250]), None)], [(array([250]), None), (array([250]), None)], [(array([250]), None), (array([250]), None)], [(array([250]), None), (array([250]), None)], [(array([250]), None), (array([250]), None)], [(array([250]), None), (array([250]), None)], [(array([250]), None), (array([250]), None)], [(array([250]), None), (array([250]), None)], [(array([250]), None), (array([250]), None)], [(array([250]), None), (array([250]), None)], [(array([250]), None), (array([250]), None)], [(array([250]), None), (array([250]), None)], [(array([250]), None), (array([250]), None)], [(array([250]), None), (array([250]), None)], [(array([250]), None), (array([250]), None)], [(array([250]), None), (array([250]), None)], [(array([250]), None), (array([250]), None)], [(array([250]), None), (array([250]), None)], [(array([250]), None), (array([250]), None)], [(array([250]), None), (array([250]), None)], [(array([250]), None), (array([250]), None)], [(array([250]), None), (array([250]), None)], [(array([250]), None), (array([250]), None)], [(array([250]), None), (array([250]), None)], [(array([250]), None), (array([250]), None)], [(array([250]), None), (array([250]), None)], [(array([250]), None), (array([250]), None)], [(array([250]), None), (array([250]), None)], [(array([250]), None), (array([250]), None)], [(array([250]), None), (array([250]), None)], [(array([250]), None), (array([250]), None)], [(array([250]), None), (array([250]), None)], [(array([250]), None), (array([250]), None)], [(array([250]), None), (array([250]), None)], [(array([250]), None), (array([250]), None)], [(array([250]), None), (array([250]), None)], [(array([250]), None), (array([250]), None)], [(array([250]), None), (array([250]), None)], [(array([250]), None), (array([250]), None)], [(array([250]), None), (array([250]), None)], [(array([250]), None), (array([250]), None)], [(array([250]), None), (array([250]), None)], [(array([250]), None), (array([250]), None)], [(array([250]), None), (array([250]), None)], [(array([250]), None), (array([250]), None)], [(array([250]), None), (array([250]), None)], [(array([250]), None), (array([250]), None)], [(array([250]), None), (array([250]), None)], [(array([250]), None), (array([250]), None)], [(array([250]), None), (array([250]), None)], [(array([250]), None), (array([250]), None)], [(array([250]), None), (array([250]), None)], [(array([250]), None), (array([250]), None)], [(array([250]), None), (array([250]), None)], [(array([250]), None), (array([250]), None)], [(array([250]), None), (array([250]), None)], [(array([250]), None), (array([250]), None)], [(array([250]), None), (array([250]), None)], [(array([250]), None), (array([250]), None)], [(array([250]), None), (array([250]), None)], [(array([250]), None), (array([250]), None)], [(array([250]), None), (array([250]), None)], [(array([250]), None), (array([250]), None)], [(array([250]), None), (array([250]), None)], [(array([250]), None), (array([250]), None)], [(array([250]), None), (array([250]), None)], [(array([250]), None), (array([250]), None)], [(array([250]), None), (array([250]), None)], [(array([250]), None), (array([250]), None)], [(array([250]), None), (array([250]), None)], [(array([250]), None), (array([250]), None)], [(array([250]), None), (array([250]), None)]]\n"
     ]
    }
   ],
   "source": [
    "print(act)"
   ]
  }
 ],
 "metadata": {
  "kernelspec": {
   "display_name": "OTF",
   "language": "python",
   "name": "python3"
  },
  "language_info": {
   "codemirror_mode": {
    "name": "ipython",
    "version": 3
   },
   "file_extension": ".py",
   "mimetype": "text/x-python",
   "name": "python",
   "nbconvert_exporter": "python",
   "pygments_lexer": "ipython3",
   "version": "3.12.9"
  }
 },
 "nbformat": 4,
 "nbformat_minor": 2
}
