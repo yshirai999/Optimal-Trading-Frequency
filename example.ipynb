{
 "cells": [
  {
   "cell_type": "markdown",
   "metadata": {},
   "source": [
    "# Basic experiment"
   ]
  },
  {
   "cell_type": "code",
   "execution_count": null,
   "metadata": {},
   "outputs": [],
   "source": [
    "from LocalVolEnv import LocalVol\n",
    "import gymnasium as gym # type: ignore\n",
    "from stable_baselines3 import PPO # type: ignore\n",
    "from stable_baselines3.common.evaluation import evaluate_policy # type: ignore\n",
    "from stable_baselines3.common.vec_env import DummyVecEnv # type: ignore\n",
    "from stable_baselines3.common.env_checker import check_env # type: ignore\n",
    "from stable_baselines3.common.monitor import Monitor # type: ignore\n",
    "import numpy as np # type: ignore\n",
    "import random"
   ]
  },
  {
   "cell_type": "code",
   "execution_count": 2,
   "metadata": {},
   "outputs": [
    {
     "name": "stdout",
     "output_type": "stream",
     "text": [
      "0.0005091053934821902 5.894828527969956e-05\n"
     ]
    }
   ],
   "source": [
    "N = 10\n",
    "Dynamics  = 'BS'\n",
    "star_time = 0\n",
    "T = 1\n",
    "dT = 1/252\n",
    "r = 0\n",
    "mu = [0.05]\n",
    "sigma = [0.3]\n",
    "P = [[1]]\n",
    "\n",
    "LVol = LocalVol(Dynamics = Dynamics, T = T, dT = dT, mu = mu, sigma = sigma, P = P)\n",
    "LVol.seed(seed=random.seed(10))\n",
    "\n",
    "env = gym.wrappers.TimeLimit(LVol, max_episode_steps=T)\n",
    "env = Monitor(env, allow_early_resets=True)\n",
    "\n",
    "Nepisodes = 100\n",
    "rew = []\n",
    "act = []\n",
    "tradingtimes = []\n",
    "\n",
    "for i in range(Nepisodes):\n",
    "    obs = env.reset()\n",
    "    cont = True\n",
    "    i = 0\n",
    "    act.append([])\n",
    "    tradingtimes.append([])\n",
    "    reward_episode = 0\n",
    "    while cont:\n",
    "        action = 252#env.action_space.sample()\n",
    "        obs, reward, terminated, truncated, info = LVol.step(action)\n",
    "        act[-1].append(action)\n",
    "        reward_episode += reward\n",
    "        i += 1\n",
    "        if any([terminated,truncated]):\n",
    "            cont = False\n",
    "            tradingtimes[-1].append(env.unwrapped.tradingtimes)\n",
    "            rew.append(reward_episode)\n",
    "\n",
    "\n",
    "print(np.mean(rew),np.std(rew))"
   ]
  },
  {
   "cell_type": "code",
   "execution_count": 6,
   "metadata": {},
   "outputs": [
    {
     "name": "stdout",
     "output_type": "stream",
     "text": [
      "== CURRENT SYSTEM INFO ==\n",
      "- OS: Windows-11-10.0.26100-SP0 10.0.26100\n",
      "- Python: 3.12.9\n",
      "- Stable-Baselines3: 2.3.2\n",
      "- PyTorch: 2.6.0+cpu\n",
      "- GPU Enabled: False\n",
      "- Numpy: 2.0.2\n",
      "- Cloudpickle: 3.1.1\n",
      "- Gymnasium: 0.29.1\n",
      "- OpenAI Gym: 0.26.2\n",
      "\n",
      "== SAVED MODEL SYSTEM INFO ==\n",
      "- OS: Windows-11-10.0.26100-SP0 10.0.26100\n",
      "- Python: 3.12.9\n",
      "- Stable-Baselines3: 2.3.2\n",
      "- PyTorch: 2.6.0+cpu\n",
      "- GPU Enabled: False\n",
      "- Numpy: 2.0.2\n",
      "- Cloudpickle: 3.1.1\n",
      "- Gymnasium: 0.29.1\n",
      "- OpenAI Gym: 0.26.2\n",
      "\n"
     ]
    }
   ],
   "source": [
    "steps = 100000\n",
    "\n",
    "path_folder = f\"C:/Users/yoshi/OneDrive/Desktop/Research/Optimal Trading Frequency/Optimal-Trading-Frequency/BS_PPO\" # PATH to the BS_PPO_Models folder\n",
    "path = f\"{path_folder}/BS_PPO_{str(steps)}_n_regimes_{str(len(mu))}\"\n",
    "for k in range(len(mu)):\n",
    "    path += f\"mu[{str(k)}]_mu{str(int(mu[k]*100))}\"\n",
    "\n",
    "model = PPO.load(path, env = DummyVecEnv([lambda: env]), print_system_info=True)"
   ]
  },
  {
   "cell_type": "code",
   "execution_count": 31,
   "metadata": {},
   "outputs": [
    {
     "name": "stdout",
     "output_type": "stream",
     "text": [
      "0.0005033821799006766 6.204861222379161e-05\n"
     ]
    }
   ],
   "source": [
    "Nepisodes = 100\n",
    "rew = []\n",
    "act = []\n",
    "tradingtimes = []\n",
    "\n",
    "for i in range(Nepisodes):\n",
    "    obs = env.reset()\n",
    "    obs = obs[0]\n",
    "    \n",
    "    #obs = [[obs[0][i] for i in range(len(obs[0]))]]\n",
    "    cont = True\n",
    "    i = 0\n",
    "    act.append([])\n",
    "    tradingtimes.append([])\n",
    "    reward_episode = 0\n",
    "    while cont:\n",
    "        action = model.predict([obs], deterministic = True)\n",
    "        obs, reward, terminated, truncated, info = LVol.step(action[0][0])\n",
    "        act[-1].append(action)\n",
    "        reward_episode += reward\n",
    "        i += 1\n",
    "        if any([terminated, truncated]):\n",
    "            cont = False\n",
    "            tradingtimes[-1].append(env.unwrapped.tradingtimes)\n",
    "            rew.append(reward_episode)\n",
    "\n",
    "print(np.mean(rew),np.std(rew))\n"
   ]
  },
  {
   "cell_type": "code",
   "execution_count": 32,
   "metadata": {},
   "outputs": [
    {
     "name": "stdout",
     "output_type": "stream",
     "text": [
      "[[(array([250]), None), (array([250]), None)], [(array([250]), None), (array([250]), None)], [(array([250]), None), (array([250]), None)], [(array([250]), None), (array([250]), None)], [(array([250]), None), (array([250]), None)], [(array([250]), None), (array([250]), None)], [(array([250]), None), (array([250]), None)], [(array([250]), None), (array([250]), None)], [(array([250]), None), (array([250]), None)], [(array([250]), None), (array([250]), None)], [(array([250]), None), (array([250]), None)], [(array([250]), None), (array([250]), None)], [(array([250]), None), (array([250]), None)], [(array([250]), None), (array([250]), None)], [(array([250]), None), (array([250]), None)], [(array([250]), None), (array([250]), None)], [(array([250]), None), (array([250]), None)], [(array([250]), None), (array([250]), None)], [(array([250]), None), (array([250]), None)], [(array([250]), None), (array([250]), None)], [(array([250]), None), (array([250]), None)], [(array([250]), None), (array([250]), None)], [(array([250]), None), (array([250]), None)], [(array([250]), None), (array([250]), None)], [(array([250]), None), (array([250]), None)], [(array([250]), None), (array([250]), None)], [(array([250]), None), (array([250]), None)], [(array([250]), None), (array([250]), None)], [(array([250]), None), (array([250]), None)], [(array([250]), None), (array([250]), None)], [(array([250]), None), (array([250]), None)], [(array([250]), None), (array([250]), None)], [(array([250]), None), (array([250]), None)], [(array([250]), None), (array([250]), None)], [(array([250]), None), (array([250]), None)], [(array([250]), None), (array([250]), None)], [(array([250]), None), (array([250]), None)], [(array([250]), None), (array([250]), None)], [(array([250]), None), (array([250]), None)], [(array([250]), None), (array([250]), None)], [(array([250]), None), (array([250]), None)], [(array([250]), None), (array([250]), None)], [(array([250]), None), (array([250]), None)], [(array([250]), None), (array([250]), None)], [(array([250]), None), (array([250]), None)], [(array([250]), None), (array([250]), None)], [(array([250]), None), (array([250]), None)], [(array([250]), None), (array([250]), None)], [(array([250]), None), (array([250]), None)], [(array([250]), None), (array([250]), None)], [(array([250]), None), (array([250]), None)], [(array([250]), None), (array([250]), None)], [(array([250]), None), (array([250]), None)], [(array([250]), None), (array([250]), None)], [(array([250]), None), (array([250]), None)], [(array([250]), None), (array([250]), None)], [(array([250]), None), (array([250]), None)], [(array([250]), None), (array([250]), None)], [(array([250]), None), (array([250]), None)], [(array([250]), None), (array([250]), None)], [(array([250]), None), (array([250]), None)], [(array([250]), None), (array([250]), None)], [(array([250]), None), (array([250]), None)], [(array([250]), None), (array([250]), None)], [(array([250]), None), (array([250]), None)], [(array([250]), None), (array([250]), None)], [(array([250]), None), (array([250]), None)], [(array([250]), None), (array([250]), None)], [(array([250]), None), (array([250]), None)], [(array([250]), None), (array([250]), None)], [(array([250]), None), (array([250]), None)], [(array([250]), None), (array([250]), None)], [(array([250]), None), (array([250]), None)], [(array([250]), None), (array([250]), None)], [(array([250]), None), (array([250]), None)], [(array([250]), None), (array([250]), None)], [(array([250]), None), (array([250]), None)], [(array([250]), None), (array([250]), None)], [(array([250]), None), (array([250]), None)], [(array([250]), None), (array([250]), None)], [(array([250]), None), (array([250]), None)], [(array([250]), None), (array([250]), None)], [(array([250]), None), (array([250]), None)], [(array([250]), None), (array([250]), None)], [(array([250]), None), (array([250]), None)], [(array([250]), None), (array([250]), None)], [(array([250]), None), (array([250]), None)], [(array([250]), None), (array([250]), None)], [(array([250]), None), (array([250]), None)], [(array([250]), None), (array([250]), None)], [(array([250]), None), (array([250]), None)], [(array([250]), None), (array([250]), None)], [(array([250]), None), (array([250]), None)], [(array([250]), None), (array([250]), None)], [(array([250]), None), (array([250]), None)], [(array([250]), None), (array([250]), None)], [(array([250]), None), (array([250]), None)], [(array([250]), None), (array([250]), None)], [(array([250]), None), (array([250]), None)], [(array([250]), None), (array([250]), None)]]\n"
     ]
    }
   ],
   "source": [
    "print(act)"
   ]
  }
 ],
 "metadata": {
  "kernelspec": {
   "display_name": "OTF",
   "language": "python",
   "name": "python3"
  },
  "language_info": {
   "codemirror_mode": {
    "name": "ipython",
    "version": 3
   },
   "file_extension": ".py",
   "mimetype": "text/x-python",
   "name": "python",
   "nbconvert_exporter": "python",
   "pygments_lexer": "ipython3",
   "version": "3.12.9"
  }
 },
 "nbformat": 4,
 "nbformat_minor": 2
}
