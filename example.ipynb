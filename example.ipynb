{
 "cells": [
  {
   "cell_type": "code",
   "execution_count": 1,
   "metadata": {},
   "outputs": [],
   "source": [
    "from env import LocalVol\n",
    "import gymnasium as gym\n",
    "from stable_baselines3 import PPO\n",
    "from stable_baselines3.common.evaluation import evaluate_policy\n",
    "from stable_baselines3.common.vec_env import DummyVecEnv\n",
    "from stable_baselines3.common.env_checker import check_env\n",
    "from stable_baselines3.common.monitor import Monitor\n",
    "import numpy as np\n",
    "import random"
   ]
  },
  {
   "cell_type": "code",
   "execution_count": 2,
   "metadata": {},
   "outputs": [
    {
     "name": "stdout",
     "output_type": "stream",
     "text": [
      "0.001645649361755679 0.00020544169483228112\n"
     ]
    }
   ],
   "source": [
    "N = 10\n",
    "Dynamics  = 'BS'\n",
    "star_time = 0\n",
    "T = 1\n",
    "dT = 1/252\n",
    "r = 0\n",
    "mu = [0.15]\n",
    "sigma = [0.5]\n",
    "P = [[1]]\n",
    "\n",
    "LVol = LocalVol(Dynamics = Dynamics, T = T, dT = dT, mu = mu, sigma = sigma, P = P)\n",
    "LVol.seed(seed=random.seed(10))\n",
    "\n",
    "env = gym.wrappers.TimeLimit(LVol, max_episode_steps=T)\n",
    "env = Monitor(env, allow_early_resets=True)\n",
    "\n",
    "Nepisodes = 100\n",
    "rew = []\n",
    "act = []\n",
    "tradingtimes = []\n",
    "\n",
    "for i in range(Nepisodes):\n",
    "    obs = env.reset()\n",
    "    cont = True\n",
    "    i = 0\n",
    "    act.append([])\n",
    "    tradingtimes.append([])\n",
    "    reward_episode = 0\n",
    "    while cont:\n",
    "        action = 252#env.action_space.sample()\n",
    "        obs, reward, terminated, truncated, info = LVol.step(action)\n",
    "        act[-1].append(action)\n",
    "        reward_episode += reward\n",
    "        i += 1\n",
    "        if any([terminated,truncated]):\n",
    "            cont = False\n",
    "            tradingtimes[-1].append(env.unwrapped.tradingtimes)\n",
    "            rew.append(reward_episode)\n",
    "\n",
    "\n",
    "print(np.mean(rew),np.std(rew))"
   ]
  }
 ],
 "metadata": {
  "kernelspec": {
   "display_name": "OTF",
   "language": "python",
   "name": "python3"
  },
  "language_info": {
   "codemirror_mode": {
    "name": "ipython",
    "version": 3
   },
   "file_extension": ".py",
   "mimetype": "text/x-python",
   "name": "python",
   "nbconvert_exporter": "python",
   "pygments_lexer": "ipython3",
   "version": "3.12.9"
  }
 },
 "nbformat": 4,
 "nbformat_minor": 2
}
